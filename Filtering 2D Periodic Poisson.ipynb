{
 "cells": [
  {
   "cell_type": "markdown",
   "metadata": {},
   "source": [
    "## Numerical implementation of time averaged 3DVAR on the 2D negative, inverse Laplacian."
   ]
  },
  {
   "cell_type": "markdown",
   "metadata": {},
   "source": [
    "A canonical example of a compact linear operator is the negative, inverse Laplacian. We test our algorithm on the 2D Poisson problem. We wish to recover $u\\in H = L^2([0,1]^2)$ with periodic boundary conditions given $f$. We know that\n",
    "$$\n",
    "-\\Delta u = f,\n",
    "$$\n",
    "We require that $f\\in H$ with $\\int f(x,y)dxdy =0$, this is a solvability condition.\n",
    "\n",
    "We take a Fourier approach.\n",
    "\n",
    "The real valued, mean zero eigenfunctions of the problem are of the form\n",
    "$$\n",
    "\\exp i\\left(\\frac{2\\pi}{L_x}k_x x + \\frac{2\\pi}{L_y}k_y y   \\right)\n",
    "$$\n",
    "for wave numbers $k_x,k_y=1,2,\\dots$.\n",
    "\n",
    "We obtain a solution by expanding $u$ in terms of its Fourier series using a FFT.\n",
    "$$\n",
    "u(x,y) = \\sum_{(k_x,k_y)\\neq (0,0)}{u}_{k_x,k_y} \\exp i\\left(\\frac{2\\pi}{L_x}k_x x + \\frac{2\\pi}{L_y}k_y y   \\right)\n",
    "$$\n",
    "$f$ can be analogously expanded. We take $N_x, N_y\\in \\mathbb{N}^+$ even and truncate $k_x = -\\frac{N_x}{2} + 1,\\dots, \\frac{N_x}{2}$, $k_x = -\\frac{N_y}{2} + 1,\\dots, \\frac{N_y}{2}$. This induces the mesh produced by $\\Delta x = \\frac{L_x}{N_x}$ and $\\Delta y = \\frac{L_y}{N_y}$.\n",
    "By mode matching\n",
    "$$\n",
    "{f}_{k_x,k_y} \\exp i\\left(\\frac{2\\pi}{L_x}k_x x + \\frac{2\\pi}{L_y}k_y y   \\right),\n",
    "$$\n",
    "$$\n",
    " = -\\Delta u,\n",
    "$$\n",
    "$$\n",
    " = -\\Delta {u}_{k_x,k_y} \\exp i\\left(\\frac{2\\pi}{L_x}k_x x + \\frac{2\\pi}{L_y}k_y y   \\right),\n",
    " $$\n",
    " $$\n",
    " =\\left[\\left(\\frac{2\\pi}{L_x}k_x\\right)^2 + \\left(\\frac{2\\pi}{L_y}k_y \\right)^2\\right]{u}_{k_x,k_y} \\exp i\\left(\\frac{2\\pi}{L_x}k_x x + \\frac{2\\pi}{L_y}k_y y   \\right),\n",
    " $$\n",
    " $$\n",
    "{f}_{k_x,k_y}= \\left[\\left(\\frac{2\\pi}{L_x}k_x\\right)^2 + \\left(\\frac{2\\pi}{L_y}k_y \\right)^2\\right]{u}_{k_x,k_y}.\n",
    "$$\n",
    "\n",
    "The 3DVAR estimator can be written as\n",
    "$$\n",
    "u_j = (A^*A+\\alpha\\Sigma^{-1})^{-1}(A^*f_j + \\alpha \\Sigma^{-1}u_{j-1})\n",
    "$$\n",
    "where for us, \n",
    "$$\n",
    "A=A^* = \\mathcal{F}^{-1} \\circ \\left[\\left(\\frac{2\\pi}{L_x}k_x\\right)^2 + \\left(\\frac{2\\pi}{L_y}k_y \\right)^2\\right]^{-1}_{-\\frac{N_x}{2}\\leq k_x\\leq \\frac{N_x}{2},-\\frac{N_y}{2}\\leq k_y\\leq \\frac{N_y}{2}}\\bullet\\circ \\mathcal{F}.\n",
    "$$\n",
    "\n",
    "Here, $\\mathcal{F}$ is the Fourier transform. For simplicity, we use $\\Sigma=A^2$. It is well known, (Weyl's theorem, see \\cite{folland} for a reference), that $\\Delta^{-1}$ has eigenvalues $\\lambda_k\\asymp \\frac{1}{k}$ in dimension 2.  By Lidskii's theorem $\\Sigma$ is trace class with eigenvalues $\\asymp\\frac{1}{k^2}$.\n"
   ]
  },
  {
   "cell_type": "code",
   "execution_count": null,
   "metadata": {},
   "outputs": [],
   "source": [
    "using Plots; pyplot();\n",
    "using FFTW;\n",
    "using LinearAlgebra;\n",
    "using Random;\n",
    "Random.seed!(100);"
   ]
  },
  {
   "cell_type": "code",
   "execution_count": null,
   "metadata": {},
   "outputs": [],
   "source": [
    "#  domain [0,Lx)\\times [0,Ly)\n",
    "Lx = 1.0; \n",
    "Ly = 2.0;\n",
    "\n",
    "# number of resolved points in each direction\n",
    "Nx = 32;\n",
    "Ny = 64;\n",
    "\n",
    "# consruct mesh, excluding last point\n",
    "Δx = Lx/Nx;\n",
    "Δy = Ly/Ny;\n",
    "\n",
    "# Regular mesh\n",
    "x = LinRange(0.0, Lx, Nx+1)[1:end-1];\n",
    "y = LinRange(0.0, Ly, Ny+1)[1:end-1];\n",
    "\n",
    "# construct wave numbers in correct layout\n",
    "kx = [0:Int(Nx/2); -Int(Nx/2)+1:1:-1]; \n",
    "ky = [0:Int(Ny/2); -Int(Ny/2)+1:1:-1];\n"
   ]
  },
  {
   "cell_type": "code",
   "execution_count": null,
   "metadata": {},
   "outputs": [],
   "source": [
    "#Building functions for the forcing term and building exact solution analytically.\n",
    "kkx = 1;\n",
    "kky = 2;\n",
    "\n",
    "f = (x,y) -> [sin(2*π/Lx *kkx * xx)*sin(2*π/Ly *kky * yy) for yy in y, xx in x];\n",
    "f_noisy = (x,y,γ) -> [sin(2*π/Lx *kkx * xx)*sin(2*π/Ly *kky * yy) + γ^2 * randn(1)[1] for yy in y, xx in x];\n",
    "u_exact = 1/( (2*π/Lx*kkx)^2 + (2*π/Ly *kky )^2 )* f(x,y);"
   ]
  },
  {
   "cell_type": "code",
   "execution_count": null,
   "metadata": {},
   "outputs": [],
   "source": [
    "function ThreeDVAR_update(u_oldvals,fvals,α,kx,ky)\n",
    "    #applies the 3DVAR update and returns a new state u_new\n",
    "    #u_oldvals and fvals are arrays of complex numbers corresponding to the current state and a noisy sample f of the forcing term.\n",
    "    #α is the regularization parameter and kx,ky are wavenumbers\n",
    "    \n",
    "    #appling the fast fourier transform\n",
    "    fhat = fft(fvals);\n",
    "    u_oldhat = fft(u_oldvals);\n",
    "    u_newhat = zeros(ComplexF64,(Ny,Nx));\n",
    "    \n",
    "    #applying the 3DVAR update in fourier space\n",
    "    for j=1:Ny,i=1:Nx\n",
    "        Ak = ( (2*π/Lx * kx[i])^2 + (2*π/Ly * ky[j])^2 );\n",
    "        Sigmainv = Ak^(-2)\n",
    "        if(i+j>2) \n",
    "           u_newhat[j,i]= (Ak.*fhat[j,i] + α.*Sigmainv.*u_oldhat[j,i]) ./ (Ak.^2 + α*Sigmainv);\n",
    "        end\n",
    "    end\n",
    "    \n",
    "    #applying the inverse fast fourier transform\n",
    "    u_new = ifft(u_newhat);\n",
    "    return u_new\n",
    "end\n"
   ]
  },
  {
   "cell_type": "code",
   "execution_count": null,
   "metadata": {},
   "outputs": [],
   "source": [
    "function run_simulation(num_samples, α, γ)\n",
    "    #runs both 3DVAR and time averaged 3DVAR on the 2D Poisson problem,\n",
    "    #returns solutions for the classic and time averaged problems and time series 2-norm errors.\n",
    "    #num_samples is the number of samples to run, α is the regularization parameter and γ is the noise level.\n",
    "    u_3DVAR = zeros(ComplexF64,(Ny,Nx));\n",
    "    u_TA3DVAR = zeros(ComplexF64,(Ny,Nx));\n",
    "\n",
    "    error_3DVAR=zeros(num_samples);\n",
    "    error_TA3DVAR=zeros(num_samples);\n",
    "\n",
    "    for j = 1:num_samples\n",
    "        fvals = f_noisy(x,y,γ);\n",
    "        u_3DVAR = ThreeDVAR_update(u_3DVAR,fvals,α,kx,ky); #applying update\n",
    "        u_TA3DVAR = (j/(j+1))*u_TA3DVAR + (1/(j+1))*u_3DVAR; #updating time average\n",
    "        \n",
    "        #calculating errors\n",
    "        error_3DVAR[j]=norm(u_3DVAR .-u_exact)*sqrt(Δx*Δy);\n",
    "        error_TA3DVAR[j]=norm(u_TA3DVAR .-u_exact)*sqrt(Δx*Δy);\n",
    "    end \n",
    "    return u_3DVAR, u_TA3DVAR, error_3DVAR, error_TA3DVAR\n",
    "end\n"
   ]
  },
  {
   "cell_type": "code",
   "execution_count": null,
   "metadata": {},
   "outputs": [],
   "source": [
    "#Running simulation\n",
    "num_samples = 100; α = 1; γ = 1;\n",
    "u_3DVAR, u_TA3DVAR, error_3DVAR, error_TA3DVAR = run_simulation(num_samples, α, γ);"
   ]
  },
  {
   "cell_type": "code",
   "execution_count": null,
   "metadata": {},
   "outputs": [],
   "source": [
    "#Plotting errors\n",
    "plot(1:num_samples, error_3DVAR, label=\"3DVAR Error\")\n",
    "plot!(1:num_samples, error_TA3DVAR, label=\"Time Averaged 3DVAR Error\")\n",
    "plot!(1:num_samples, (ones(num_samples)./((1:num_samples).^(1/2))).*error_TA3DVAR[1], label=\"theoretical error\")\n",
    "title!(\"2-norm Error\")\n",
    "xlabel!(\"Iterations\")\n",
    "ylabel!(\"Error\")\n",
    "savefig(\"err\")"
   ]
  },
  {
   "cell_type": "code",
   "execution_count": null,
   "metadata": {},
   "outputs": [],
   "source": [
    "#running a shorter simulation and then plotting solutions\n",
    "num_samples = 10; α = 1; γ = 1;\n",
    "u_3DVAR, u_TA3DVAR, error_3DVAR, error_TA3DVAR = run_simulation(num_samples, α, γ);"
   ]
  },
  {
   "cell_type": "code",
   "execution_count": null,
   "metadata": {},
   "outputs": [],
   "source": [
    "contour(x,y,u_exact)\n",
    "title!(\"Exact Solution, α=γ=1\")\n",
    "xlabel!(\"x\")\n",
    "ylabel!(\"y\")\n",
    "savefig(\"u_exact\")"
   ]
  },
  {
   "cell_type": "code",
   "execution_count": null,
   "metadata": {},
   "outputs": [],
   "source": [
    "contour(x,y,real(u_3DVAR))\n",
    "title!(\"Classic 3DVAR Solution, 10 iterations, α=γ=1\")\n",
    "xlabel!(\"x\")\n",
    "ylabel!(\"y\")\n",
    "savefig(\"u_3DVAR\")"
   ]
  },
  {
   "cell_type": "code",
   "execution_count": null,
   "metadata": {},
   "outputs": [],
   "source": [
    "contour(x,y,real(u_TA3DVAR))\n",
    "title!(\"Time Averaged 3DVAR Solution, 10 iterations, α=γ=1\")\n",
    "xlabel!(\"x\")\n",
    "ylabel!(\"y\")\n",
    "savefig(\"u_TA3DVAR\")"
   ]
  }
 ],
 "metadata": {
  "kernelspec": {
   "display_name": "Julia 1.2.0",
   "language": "julia",
   "name": "julia-1.2"
  },
  "language_info": {
   "file_extension": ".jl",
   "mimetype": "application/julia",
   "name": "julia",
   "version": "1.2.0"
  }
 },
 "nbformat": 4,
 "nbformat_minor": 4
}
